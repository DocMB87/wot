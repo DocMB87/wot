{
 "cells": [
  {
   "cell_type": "code",
   "execution_count": 1,
   "metadata": {
    "collapsed": false
   },
   "outputs": [
    {
     "name": "stdout",
     "output_type": "stream",
     "text": [
      "Attempting to receive key 8E1431D5\n",
      "Error importing key 8E1431D5. Cannot continue\n"
     ]
    },
    {
     "ename": "SystemExit",
     "evalue": "1",
     "output_type": "error",
     "traceback": [
      "An exception has occurred, use %tb to see the full traceback.\n",
      "\u001b[1;31mSystemExit\u001b[0m\u001b[1;31m:\u001b[0m 1\n"
     ]
    },
    {
     "name": "stderr",
     "output_type": "stream",
     "text": [
      "To exit: use 'exit', 'quit', or Ctrl-D.\n"
     ]
    }
   ],
   "source": [
    "# %load app.py\n",
    "# This file is part of \"wot\"\n",
    "#\n",
    "# Copyright (C) 2015 Graham Markall\n",
    "#\n",
    "# This program is free software: you can redistribute it and/or modify it\n",
    "# under the terms of the GNU General Public License as published by the Free\n",
    "# Software Foundation, either version 3 of the License, or (at your option)\n",
    "# any later version.\n",
    "#\n",
    "# This program is distributed in the hope that it will be useful, but WITHOUT\n",
    "# ANY WARRANTY; without even the implied warranty of MERCHANTABILITY or\n",
    "# FITNESS FOR A PARTICULAR PURPOSE. See the included LICENSE file for details.\n",
    "\n",
    "\n",
    "from utils import GPG\n",
    "import sys\n",
    "\n",
    "gpg = GPG()\n",
    "gpg.keyserver = 'hkp://pgp.mit.edu'\n",
    "\n",
    "fedora_key = '8E1431D5'\n",
    "expected_fingerprint = 'C527EA07A9349B589C35E1BF11ADC0948E1431D5'\n",
    "\n",
    "print('Attempting to receive key %s' % fedora_key)\n",
    "import_result = gpg.recv_keys('8E1431D5')\n",
    "\n",
    "if not import_result:\n",
    "    print('Error importing key %s. Cannot continue' % fedora_key)\n",
    "    sys.exit(1)\n",
    "\n",
    "# Ignore any other fingerprints (GRM: not sure when you would have more than\n",
    "# one anwyay)\n",
    "fp0 = import_result.fingerprints[0]\n",
    "\n",
    "print('Received key %s with fingerprint %s' % (fp0[-8:], fp0))\n",
    "\n",
    "print('Checking fingerprint matches expected')\n",
    "if expected_fingerprint == fp0:\n",
    "    print(' - OK')\n",
    "else:\n",
    "    print(' - ERROR: expected %s, got %s' % (expected_fingerprint, fp0))\n",
    "\n",
    "# Display uids\n",
    "uids = gpg.get_uids(fedora_key)\n",
    "print('Key %s has uids:' % fedora_key)\n",
    "for uid in uids:\n",
    "    print(' - %s' % uid)\n",
    "\n",
    "# Get the list of signatures of the fedora key.\n",
    "sig_keyids = gpg.list_sigs_by_keyid(fedora_key)\n",
    "\n",
    "# Now attempt to import each of those keys:\n",
    "successful_imports = []\n",
    "for keyid in sig_keyids:\n",
    "    print('Importing key with ID %s' % keyid)\n",
    "    import_result = gpg.recv_keys(keyid)\n",
    "    if import_result:\n",
    "        successful_imports.append(keyid)\n",
    "    else:\n",
    "        print('Key with ID %s received failed:' % keyid)\n",
    "        print(import_result.stderr)\n",
    "\n",
    "# Now let's suppose we want to explore the first key we received, to find out whose it is.\n",
    "interesting_key = successful_imports[0]\n",
    "import_result = gpg.recv_keys(interesting_key)\n",
    "\n",
    "if not import_result:\n",
    "    print('Error importing key %s. Cannot continue')\n",
    "    sys.exit(1)\n",
    "\n",
    "uids = gpg.get_uids(interesting_key)\n",
    "print('Key %s has uids:')\n",
    "for uid in uids:\n",
    "    print(' - %s' % uid)\n"
   ]
  },
  {
   "cell_type": "code",
   "execution_count": null,
   "metadata": {
    "collapsed": false
   },
   "outputs": [],
   "source": [
    "from bokeh.io import output_notebook, show\n",
    "output_notebook()"
   ]
  },
  {
   "cell_type": "code",
   "execution_count": null,
   "metadata": {
    "collapsed": false
   },
   "outputs": [],
   "source": [
    "from bokeh.plotting import figure\n",
    "import pandas as pd"
   ]
  },
  {
   "cell_type": "code",
   "execution_count": null,
   "metadata": {
    "collapsed": false
   },
   "outputs": [],
   "source": [
    "data = pd.DataFrame({\n",
    "    'x': [0, 1, 1, 0, 1],\n",
    "    'y': [1, 2, 1, 2, 1.5],\n",
    "    'uid': ['Fedora 22 signing key', 'Petr Pisar <ppisar@redhat.com>', 'a', 'b', 'c'],\n",
    "    'signedby': [[1, 2], [], [0, 1, 2], [0], [0]]\n",
    "})\n",
    "data"
   ]
  },
  {
   "cell_type": "code",
   "execution_count": 48,
   "metadata": {
    "collapsed": false
   },
   "outputs": [
    {
     "data": {
      "text/html": [
       "<script type=\"text/javascript\">\n",
       "        Bokeh.$(function() {\n",
       "            var all_models = [{\"id\": \"8a46deb1-859e-4fda-8c48-1e4821163540\", \"type\": \"Grid\", \"attributes\": {\"tags\": [], \"id\": \"8a46deb1-859e-4fda-8c48-1e4821163540\", \"plot\": {\"subtype\": \"Figure\", \"id\": \"bb784562-df65-461f-9f3d-761dd09e53ea\", \"type\": \"Plot\"}, \"dimension\": 0, \"ticker\": {\"id\": \"cc23d22d-bddd-405e-aaa7-b956c582421e\", \"type\": \"BasicTicker\"}, \"doc\": null}}, {\"id\": \"c8c18510-b542-4ca1-ae3b-5f4e4a38d99c\", \"type\": \"Circle\", \"attributes\": {\"tags\": [], \"line_color\": {\"value\": \"#1f77b4\"}, \"fill_color\": {\"value\": \"#1f77b4\"}, \"id\": \"c8c18510-b542-4ca1-ae3b-5f4e4a38d99c\", \"size\": {\"value\": 20, \"units\": \"screen\"}, \"y\": {\"field\": \"y\"}, \"doc\": null, \"fill_alpha\": {\"value\": 1.0}, \"x\": {\"field\": \"x\"}, \"line_alpha\": {\"value\": 1.0}}}, {\"subtype\": \"Figure\", \"id\": \"bb784562-df65-461f-9f3d-761dd09e53ea\", \"type\": \"Plot\", \"attributes\": {\"tags\": [], \"left\": [{\"id\": \"f4ab51ef-fa82-4adc-9ce5-216921c0ed61\", \"type\": \"LinearAxis\"}], \"right\": [], \"plot_height\": 300, \"extra_y_ranges\": {}, \"id\": \"bb784562-df65-461f-9f3d-761dd09e53ea\", \"toolbar_location\": null, \"y_range\": {\"id\": \"dfa28692-554e-42fa-a1de-dd93a3d69063\", \"type\": \"DataRange1d\"}, \"extra_x_ranges\": {}, \"below\": [{\"id\": \"ffa36639-3237-4ebb-bad5-9d6d34a68e13\", \"type\": \"LinearAxis\"}], \"doc\": null, \"tool_events\": {\"id\": \"22d80a22-98dc-4006-b14f-f8de9f9d5226\", \"type\": \"ToolEvents\"}, \"tools\": [{\"id\": \"9bab6bf1-58b8-444d-b0e6-668153a4e890\", \"type\": \"HoverTool\"}, {\"id\": \"ee60365e-0d21-45a2-b8ce-157a9a5e5f6d\", \"type\": \"TapTool\"}], \"above\": [], \"x_range\": {\"id\": \"03bf3a1c-7eaa-4bb3-9d00-a43ee86c9bbb\", \"type\": \"DataRange1d\"}, \"renderers\": [{\"id\": \"ffa36639-3237-4ebb-bad5-9d6d34a68e13\", \"type\": \"LinearAxis\"}, {\"id\": \"8a46deb1-859e-4fda-8c48-1e4821163540\", \"type\": \"Grid\"}, {\"id\": \"f4ab51ef-fa82-4adc-9ce5-216921c0ed61\", \"type\": \"LinearAxis\"}, {\"id\": \"fb93c75a-5c6f-4f68-9353-f5c8054443ca\", \"type\": \"Grid\"}, {\"id\": \"ef2815d1-de96-40d7-b4b2-c6bff529b5e8\", \"type\": \"GlyphRenderer\"}]}}, {\"id\": \"48ad84b2-9ca4-47fc-bffe-ddb639817f1a\", \"type\": \"Callback\", \"attributes\": {\"tags\": [], \"id\": \"48ad84b2-9ca4-47fc-bffe-ddb639817f1a\", \"code\": \"\\n    // What is the selected node?\\n    var selection = cb_obj.get('selected');\\n    var selected = selection['1d'].indices;\\n    console.log(selected);\\n    // Who signed the selected node?\\n    var signed_by = source.get('data')['signedby'];\\n    \\n    // Set the selection to the signees\\n    var new_selection = selected.concat(signed_by[selected[0]]);\\n    selection['1d'].indices = new_selection;\\n    cb_obj.set('selected', selection);\\n\", \"doc\": null, \"args\": {\"source\": {\"id\": \"de22cf5e-d056-4ebc-b9a8-cb53c1d9f3ed\", \"type\": \"ColumnDataSource\"}}}}, {\"id\": \"7090f04b-9a08-4d8b-b0ee-c5c6d2b3e732\", \"type\": \"BasicTicker\", \"attributes\": {\"tags\": [], \"id\": \"7090f04b-9a08-4d8b-b0ee-c5c6d2b3e732\", \"num_minor_ticks\": 5, \"doc\": null, \"mantissas\": [2, 5, 10]}}, {\"id\": \"9ba3bdef-b575-42f4-b84a-2e1d6f38c1f8\", \"type\": \"BasicTickFormatter\", \"attributes\": {\"tags\": [], \"id\": \"9ba3bdef-b575-42f4-b84a-2e1d6f38c1f8\", \"doc\": null}}, {\"id\": \"08140df8-fc81-455f-b7e6-02717486cded\", \"type\": \"Circle\", \"attributes\": {\"tags\": [], \"line_color\": {\"value\": \"#1f77b4\"}, \"fill_color\": {\"value\": \"#1f77b4\"}, \"id\": \"08140df8-fc81-455f-b7e6-02717486cded\", \"size\": {\"value\": 20, \"units\": \"screen\"}, \"y\": {\"field\": \"y\"}, \"doc\": null, \"fill_alpha\": {\"value\": 0.1}, \"x\": {\"field\": \"x\"}, \"line_alpha\": {\"value\": 0.1}}}, {\"id\": \"ee60365e-0d21-45a2-b8ce-157a9a5e5f6d\", \"type\": \"TapTool\", \"attributes\": {\"tags\": [], \"names\": [], \"plot\": {\"subtype\": \"Figure\", \"id\": \"bb784562-df65-461f-9f3d-761dd09e53ea\", \"type\": \"Plot\"}, \"renderers\": [], \"id\": \"ee60365e-0d21-45a2-b8ce-157a9a5e5f6d\", \"action\": null, \"doc\": null}}, {\"id\": \"ef2815d1-de96-40d7-b4b2-c6bff529b5e8\", \"type\": \"GlyphRenderer\", \"attributes\": {\"tags\": [], \"id\": \"ef2815d1-de96-40d7-b4b2-c6bff529b5e8\", \"selection_glyph\": null, \"glyph\": {\"id\": \"c8c18510-b542-4ca1-ae3b-5f4e4a38d99c\", \"type\": \"Circle\"}, \"data_source\": {\"id\": \"de22cf5e-d056-4ebc-b9a8-cb53c1d9f3ed\", \"type\": \"ColumnDataSource\"}, \"nonselection_glyph\": {\"id\": \"08140df8-fc81-455f-b7e6-02717486cded\", \"type\": \"Circle\"}, \"doc\": null}}, {\"id\": \"de22cf5e-d056-4ebc-b9a8-cb53c1d9f3ed\", \"type\": \"ColumnDataSource\", \"attributes\": {\"tags\": [], \"id\": \"de22cf5e-d056-4ebc-b9a8-cb53c1d9f3ed\", \"callback\": {\"id\": \"48ad84b2-9ca4-47fc-bffe-ddb639817f1a\", \"type\": \"Callback\"}, \"column_names\": [\"index\", \"y\", \"signedby\", \"x\", \"uid\"], \"data\": {\"index\": [0, 1, 2, 3, 4], \"y\": [1.0, 2.0, 1.0, 2.0, 1.5], \"signedby\": [[1, 2], [], [0, 1, 2], [0], [0]], \"x\": [0, 1, 1, 0, 1], \"uid\": [\"Fedora 22 signing key\", \"Petr Pisar <ppisar@redhat.com>\", \"a\", \"b\", \"c\"]}, \"selected\": {\"1d\": {\"indices\": []}, \"0d\": {\"indices\": [], \"flag\": false}, \"2d\": {\"indices\": []}}, \"doc\": null}}, {\"id\": \"cc23d22d-bddd-405e-aaa7-b956c582421e\", \"type\": \"BasicTicker\", \"attributes\": {\"tags\": [], \"id\": \"cc23d22d-bddd-405e-aaa7-b956c582421e\", \"num_minor_ticks\": 5, \"doc\": null, \"mantissas\": [2, 5, 10]}}, {\"id\": \"f4ab51ef-fa82-4adc-9ce5-216921c0ed61\", \"type\": \"LinearAxis\", \"attributes\": {\"tags\": [], \"id\": \"f4ab51ef-fa82-4adc-9ce5-216921c0ed61\", \"plot\": {\"subtype\": \"Figure\", \"id\": \"bb784562-df65-461f-9f3d-761dd09e53ea\", \"type\": \"Plot\"}, \"doc\": null, \"formatter\": {\"id\": \"9ba3bdef-b575-42f4-b84a-2e1d6f38c1f8\", \"type\": \"BasicTickFormatter\"}, \"ticker\": {\"id\": \"7090f04b-9a08-4d8b-b0ee-c5c6d2b3e732\", \"type\": \"BasicTicker\"}}}, {\"id\": \"22d80a22-98dc-4006-b14f-f8de9f9d5226\", \"type\": \"ToolEvents\", \"attributes\": {\"tags\": [], \"id\": \"22d80a22-98dc-4006-b14f-f8de9f9d5226\", \"geometries\": [], \"doc\": null}}, {\"id\": \"ffa36639-3237-4ebb-bad5-9d6d34a68e13\", \"type\": \"LinearAxis\", \"attributes\": {\"tags\": [], \"id\": \"ffa36639-3237-4ebb-bad5-9d6d34a68e13\", \"plot\": {\"subtype\": \"Figure\", \"id\": \"bb784562-df65-461f-9f3d-761dd09e53ea\", \"type\": \"Plot\"}, \"doc\": null, \"formatter\": {\"id\": \"5af4482e-1bf8-44bb-b21e-85b0812c3924\", \"type\": \"BasicTickFormatter\"}, \"ticker\": {\"id\": \"cc23d22d-bddd-405e-aaa7-b956c582421e\", \"type\": \"BasicTicker\"}}}, {\"id\": \"03bf3a1c-7eaa-4bb3-9d00-a43ee86c9bbb\", \"type\": \"DataRange1d\", \"attributes\": {\"tags\": [], \"names\": [], \"callback\": null, \"renderers\": [], \"id\": \"03bf3a1c-7eaa-4bb3-9d00-a43ee86c9bbb\", \"doc\": null}}, {\"id\": \"dfa28692-554e-42fa-a1de-dd93a3d69063\", \"type\": \"DataRange1d\", \"attributes\": {\"tags\": [], \"names\": [], \"callback\": null, \"renderers\": [], \"id\": \"dfa28692-554e-42fa-a1de-dd93a3d69063\", \"doc\": null}}, {\"id\": \"fb93c75a-5c6f-4f68-9353-f5c8054443ca\", \"type\": \"Grid\", \"attributes\": {\"tags\": [], \"id\": \"fb93c75a-5c6f-4f68-9353-f5c8054443ca\", \"plot\": {\"subtype\": \"Figure\", \"id\": \"bb784562-df65-461f-9f3d-761dd09e53ea\", \"type\": \"Plot\"}, \"dimension\": 1, \"ticker\": {\"id\": \"7090f04b-9a08-4d8b-b0ee-c5c6d2b3e732\", \"type\": \"BasicTicker\"}, \"doc\": null}}, {\"id\": \"5af4482e-1bf8-44bb-b21e-85b0812c3924\", \"type\": \"BasicTickFormatter\", \"attributes\": {\"tags\": [], \"id\": \"5af4482e-1bf8-44bb-b21e-85b0812c3924\", \"doc\": null}}, {\"id\": \"9bab6bf1-58b8-444d-b0e6-668153a4e890\", \"type\": \"HoverTool\", \"attributes\": {\"tags\": [], \"names\": [], \"plot\": {\"subtype\": \"Figure\", \"id\": \"bb784562-df65-461f-9f3d-761dd09e53ea\", \"type\": \"Plot\"}, \"renderers\": [], \"tooltips\": \"@uid\", \"callback\": null, \"id\": \"9bab6bf1-58b8-444d-b0e6-668153a4e890\", \"doc\": null}}];\n",
       "            Bokeh.load_models(all_models);\n",
       "            var plots = [{'elementid': '#4b103475-0b10-4525-af25-fcdd74b0aa05', 'modeltype': 'Plot', 'modelid': 'bb784562-df65-461f-9f3d-761dd09e53ea'}];\n",
       "            for (idx in plots) {\n",
       "            \tvar plot = plots[idx];\n",
       "            \tvar model = Bokeh.Collections(plot.modeltype).get(plot.modelid);\n",
       "            \tBokeh.logger.info('Realizing plot:')\n",
       "            \tBokeh.logger.info(' - modeltype: ' + plot.modeltype);\n",
       "            \tBokeh.logger.info(' - modelid: ' + plot.modelid);\n",
       "            \tBokeh.logger.info(' - elementid: ' + plot.elementid);\n",
       "            \tvar view = new model.default_view({\n",
       "            \t\tmodel: model,\n",
       "            \t\tel: plot.elementid\n",
       "            \t});\n",
       "            \tBokeh.index[plot.modelid] = view;\n",
       "            }\n",
       "        });\n",
       "    </script>\n",
       "<div class=\"plotdiv\" id=\"4b103475-0b10-4525-af25-fcdd74b0aa05\"></div>\n",
       "\n"
      ]
     },
     "metadata": {},
     "output_type": "display_data"
    }
   ],
   "source": [
    "from bokeh.models import ColumnDataSource, HoverTool, TapTool, Callback\n",
    "source = ColumnDataSource(data)\n",
    "\n",
    "p = figure(plot_height=300, tools='', toolbar_location=None)\n",
    "p.circle(\n",
    "    x='x', y='y', source=source,\n",
    "    size=20,\n",
    ")\n",
    "p.add_tools(HoverTool(tooltips='@uid'))\n",
    "p.add_tools(TapTool())\n",
    "\n",
    "source.callback = Callback(args=dict(source=source), code=\"\"\"\n",
    "    // What is the selected node?\n",
    "    var selection = cb_obj.get('selected');\n",
    "    var selected = selection['1d'].indices;\n",
    "    console.log(selected);\n",
    "    // Who signed the selected node?\n",
    "    var signed_by = source.get('data')['signedby'];\n",
    "    \n",
    "    // Set the selection to the signees\n",
    "    var new_selection = selected.concat(signed_by[selected[0]]);\n",
    "    selection['1d'].indices = new_selection;\n",
    "    cb_obj.set('selected', selection);\n",
    "\"\"\")\n",
    "\n",
    "\n",
    "show(p)"
   ]
  },
  {
   "cell_type": "code",
   "execution_count": 29,
   "metadata": {
    "collapsed": false,
    "scrolled": true
   },
   "outputs": [
    {
     "data": {
      "text/plain": [
       "{'0d': {'flag': False, 'indices': []},\n",
       " '1d': {'indices': []},\n",
       " '2d': {'indices': []}}"
      ]
     },
     "execution_count": 29,
     "metadata": {},
     "output_type": "execute_result"
    }
   ],
   "source": [
    "source.selected"
   ]
  },
  {
   "cell_type": "code",
   "execution_count": null,
   "metadata": {
    "collapsed": true
   },
   "outputs": [],
   "source": []
  }
 ],
 "metadata": {
  "kernelspec": {
   "display_name": "Python 3",
   "language": "python",
   "name": "python3"
  },
  "language_info": {
   "codemirror_mode": {
    "name": "ipython",
    "version": 3
   },
   "file_extension": ".py",
   "mimetype": "text/x-python",
   "name": "python",
   "nbconvert_exporter": "python",
   "pygments_lexer": "ipython3",
   "version": "3.4.3"
  }
 },
 "nbformat": 4,
 "nbformat_minor": 0
}
